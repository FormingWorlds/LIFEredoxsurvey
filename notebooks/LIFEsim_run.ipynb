{
 "cells": [
  {
   "cell_type": "code",
   "execution_count": null,
   "id": "b3c620bb",
   "metadata": {},
   "outputs": [],
   "source": [
    "import numpy as np\n",
    "from astropy import units as u\n",
    "import csv\n",
    "import configparser\n",
    "import os\n",
    "import subprocess\n",
    "\n",
    "import matplotlib as mpl\n",
    "mpl.rcParams['figure.dpi'] = 300\n",
    "from matplotlib.pyplot import figure, show, subplots\n",
    "from matplotlib import pyplot as plt\n"
   ]
  },
  {
   "cell_type": "code",
   "execution_count": null,
   "id": "a85f43eb",
   "metadata": {},
   "outputs": [],
   "source": [
    "def specfluxden_to_jansky(wavelength,specfluxden):\n",
    "    \"\"\"Convert spectral flux density (erg/s/cm^2/nm) to Janskys, using wavelength in microns\"\"\"\n",
    "    wavelength = wavelength * u.micron\n",
    "    specfluxden = specfluxden * u.erg / (u.s * u.cm**2 * u.nm)\n",
    "    return specfluxden.to(u.Jy, equivalencies=u.spectral_density(wavelength)).value\n",
    "\n",
    "def distance_correction(specfluxden,distance):\n",
    "    \"\"\"\"Reduces intensity through inverse-square law, using observing distance (in parsec)\"\"\"\n",
    "    return specfluxden*(6378/(distance*5.39E11))**2 # AGNI values are observed at 1 Earth radius"
   ]
  },
  {
   "cell_type": "code",
   "execution_count": null,
   "id": "d27b3a96",
   "metadata": {},
   "outputs": [],
   "source": [
    "def agni_in_lifesim(agnifilename,distance,integrationtime):\n",
    "    \"\"\"Take one AGNI spectrum, convert it to Janskys, and run it through LIFEsim\"\"\"\n",
    "    \n",
    "    # get AGNI data and convert it to Janskys\n",
    "    data_path = \"../output/AGNI/AGNI_textfiles/\" + agnifilename \n",
    "    bandcenter = np.genfromtxt(data_path,skip_header=1,delimiter=\",\")[:,0]/1000 # microns\n",
    "    bandflux = np.genfromtxt(data_path,skip_header=1,delimiter=\",\")[:,1] # erg / (s * cm**2 * nm)\n",
    "    bandflux_converted = specfluxden_to_jansky(bandcenter,bandflux)\n",
    "    bandflux_distancecorrected = distance_correction(bandflux_converted,distance)\n",
    "    \n",
    "    # write Jansky conversion to txt file\n",
    "    file_destination = \"../output/LIFEsim/cleanspectra/\" + \"clean\" + agnifilename[4:-4] + \"_\" + str(distance) + \".txt\"\n",
    "    with open(file_destination, 'w') as f:\n",
    "        writer = csv.writer(f, delimiter='\\t')\n",
    "        writer.writerows(zip(bandcenter,bandflux_distancecorrected))\n",
    "\n",
    "    # Edit LIFEsim config\n",
    "    config = configparser.ConfigParser(comment_prefixes=\"#\",allow_no_value=True)\n",
    "    config.read('GEMINI/init_simulation.cfg')\n",
    "    config['simulation']['simulation_distance-to-planet'] = str(distance)\n",
    "    config['simulation']['simulation_distance-to-star'] = str(distance)\n",
    "    config['simulation']['simulation_integration-time'] = str(integrationtime)\n",
    "    config['planet']['planet_pathtospectrum'] = file_destination\n",
    "    with open('GEMINI/init_simulation.cfg', 'w') as configfile:\n",
    "        config.write(configfile)\n",
    "    \n",
    "    # run LIFEsim through GEMINI\n",
    "    prompt = \"source /dataserver/users/formingworlds/borgmann/.LIFEsim_venv/bin/activate\"\n",
    "    subprocess.run(prompt, shell=True)\n",
    "    prompt = \"python GEMINI/gemini.py\"\n",
    "    subprocess.run(prompt, shell=True)\n",
    "\n",
    "    # copy GEMINI output to my own output folder\n",
    "    prompt = \"cp GEMINI/outputdir/output-figure.pdf ../output/LIFEsim/observed_spectra/\" + \"clean\" + agnifilename[4:-4] + \"_\" + str(distance) + \".pdf\"\n",
    "    subprocess.run(prompt, shell=True)\n",
    "    prompt = \"cp GEMINI/outputdir/data.txt ../output/LIFEsim/observed_spectra/\" + \"clean\" + agnifilename[4:-4] + \"_\" + str(distance) + \".txt\"\n",
    "    subprocess.run(prompt, shell=True)"
   ]
  },
  {
   "cell_type": "code",
   "execution_count": null,
   "id": "69409504",
   "metadata": {},
   "outputs": [],
   "source": [
    "# convert AGNI data to be used for LIFEsim\n",
    "data_path = \"../output/AGNI/AGNI_textfiles\"\n",
    "files = [f for f in os.listdir(data_path)]\n",
    "\n",
    "sixteen_indices = [0,3,6,9,30,33,36,39,60,63,66,69,90,93,96,99]\n",
    "for i in sixteen_indices:\n",
    "    for j in [5,10,15,20]:\n",
    "        agni_in_lifesim(files[i],j,36000)"
   ]
  },
  {
   "cell_type": "code",
   "execution_count": null,
   "id": "50b8d9d4",
   "metadata": {},
   "outputs": [],
   "source": [
    "# save individual images\n",
    "plt.ioff() # supress notebook output\n",
    "\n",
    "data_path = \"../output/LIFEsim/cleanspectra\"\n",
    "files = [f for f in os.listdir(data_path)]\n",
    "\n",
    "for i in range(len(files)):\n",
    "    image_path = data_path + \"/\" + files[i]\n",
    "    bandcenter = np.genfromtxt(image_path)[:,0]\n",
    "    bandflux = np.genfromtxt(image_path)[:,1]\n",
    "\n",
    "    fig = figure(figsize=(8,6))\n",
    "    frame1 = fig.add_subplot(1,1,1)\n",
    "    frame1.plot(bandcenter,bandflux)\n",
    "    frame1.set_xlabel('wavelength (microns)')\n",
    "    frame1.set_ylabel('Janskys')\n",
    "    #frame1.set_xscale('log')\n",
    "    frame1.set_yscale('log')\n",
    "    frame1.set_xlim(4,18.5)\n",
    "    frame1.set_ylim(10**-6,10**-2)\n",
    "    filename = '../output/LIFEsim/cleanspectra/images/' + files[i][:-4] + '.png'\n",
    "    fig.savefig(filename)"
   ]
  },
  {
   "cell_type": "code",
   "execution_count": null,
   "id": "0baeca53",
   "metadata": {},
   "outputs": [],
   "source": []
  }
 ],
 "metadata": {
  "kernelspec": {
   "display_name": "LIFEsim_venv",
   "language": "python",
   "name": "lifesim_venv"
  },
  "language_info": {
   "codemirror_mode": {
    "name": "ipython",
    "version": 3
   },
   "file_extension": ".py",
   "mimetype": "text/x-python",
   "name": "python",
   "nbconvert_exporter": "python",
   "pygments_lexer": "ipython3",
   "version": "3.10.9"
  }
 },
 "nbformat": 4,
 "nbformat_minor": 5
}
