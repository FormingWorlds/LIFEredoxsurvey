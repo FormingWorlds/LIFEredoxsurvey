{
 "cells": [
  {
   "cell_type": "code",
   "execution_count": null,
   "metadata": {},
   "outputs": [],
   "source": [
    "# this code is still a bit of a mess\n",
    "# I am not decided yet on how exactly I want to read and plot the data\n",
    "# so there's a bunch of different reading/plotting/HZ selecting happening in this notebook"
   ]
  },
  {
   "cell_type": "code",
   "execution_count": null,
   "metadata": {},
   "outputs": [],
   "source": [
    "import numpy as np\n",
    "from matplotlib.pyplot import figure, show, subplots\n",
    "import matplotlib as mpl\n",
    "from matplotlib import pyplot as plt\n",
    "import ReadPlanetPopulation as RPP\n",
    "import subprocess\n",
    "\n",
    "#import yaml\n",
    "from ruamel.yaml import YAML\n",
    "yaml = YAML()\n",
    "yaml.preserve_quotes = True  # Keep quotes if they exist\n",
    "yaml.indent(mapping=2, sequence=4, offset=2)  # Preserve indentation\n",
    "yaml.representer.add_representer(\n",
    "    float, lambda dumper, data: dumper.represent_scalar(\"tag:yaml.org,2002:float\", str(data))\n",
    ")\n",
    "\n",
    "with open(\"../config/masterconfig.yaml\", \"r\") as file:\n",
    "    config = yaml.load(file) or {}\n",
    "PPOP_rootpath = config['PPOP_rootpath']\n",
    "REPO_rootpath = config['REPO_path']"
   ]
  },
  {
   "cell_type": "code",
   "execution_count": null,
   "metadata": {},
   "outputs": [],
   "source": [
    "# write config file to p-pop repo\n",
    "prompt = \"cp -f \" + \"../config/P-pop.py \" + PPOP_rootpath\n",
    "subprocess.run(prompt, shell=True)\n",
    "\n",
    "# run p-pop\n",
    "prompt = \"python3 P-pop.py\"\n",
    "subprocess.run(prompt,cwd=PPOP_rootpath, shell=True)\n",
    "\n",
    "# get population data file\n",
    "prompt = \"cp -f \" + PPOP_rootpath + \"/planet_population.txt \" + \"../output\"\n",
    "subprocess.run(prompt, shell=True)"
   ]
  },
  {
   "cell_type": "code",
   "execution_count": null,
   "metadata": {},
   "outputs": [],
   "source": [
    "data = np.genfromtxt(\"../output/planet_population.txt\",skip_header=2)\n",
    "titles = np.genfromtxt(\"../output/planet_population.txt\",dtype='str')[1]\n",
    "\n",
    "def select_universe(i):\n",
    "    def filter_func(x):\n",
    "        if x[0] == i:\n",
    "            return True\n",
    "        else:\n",
    "            return False\n",
    "    return np.array(list(filter(filter_func,data[:,0:3])))\n",
    "\n",
    "universe0 = select_universe(0)\n",
    "universe1 = select_universe(1)\n",
    "universe2 = select_universe(2)"
   ]
  },
  {
   "cell_type": "code",
   "execution_count": null,
   "metadata": {},
   "outputs": [],
   "source": [
    "fig = figure(figsize=(8,6))\n",
    "frame1 = fig.add_subplot(1,1,1)\n",
    "\n",
    "frame1.scatter(universe0[:,2],universe0[:,1],marker='x')\n",
    "#frame1.scatter(universe1[:,2],universe1[:,1],marker='*')\n",
    "#frame1.scatter(universe2[:,2],universe2[:,1],marker='+')\n",
    "\n",
    "frame1.set_xlabel('Orbital period (days)')\n",
    "frame1.set_ylabel('Planet radius (Earth radii)')\n",
    "frame1.set_xscale('log')\n",
    "frame1.set_yscale('log')\n",
    "show()"
   ]
  },
  {
   "cell_type": "code",
   "execution_count": null,
   "metadata": {},
   "outputs": [],
   "source": [
    "# Select the name of the planet population table to be read.\n",
    "PathPlanetTable = \"../output/planet_population.txt\" # str\n",
    "\n",
    "# Select a model for the computation of the habitable zone.\n",
    "Model = 'MS'\n",
    "#Model = 'POST-MS'\n",
    "\n",
    "PP = RPP.PlanetPopulation(PathPlanetTable)\n",
    "PP.ComputeHZ(Model)\n",
    "\n",
    "ww_Rp = (PP.Rp > 0.5) & (PP.Rp < 1.5)\n",
    "ww_Fp = (PP.Fp < PP.HZin) & (PP.Fp > PP.HZout)\n",
    "ww_habitable = ww_Rp & ww_Fp\n",
    "\n",
    "#import pdb; pdb.set_trace()"
   ]
  },
  {
   "cell_type": "code",
   "execution_count": null,
   "metadata": {},
   "outputs": [],
   "source": [
    "fig = figure(figsize=(8,6))\n",
    "frame1 = fig.add_subplot(1,1,1)\n",
    "\n",
    "#frame1.scatter(universe0[:,2],universe0[:,1],marker='x',label=\"Not in HZ\")\n",
    "#frame1.scatter(habitableplanets[:,2],habitableplanets[:,1],marker='x',c=\"orange\",label=\"In HZ\")\n",
    "frame1.scatter(data[:,2],data[:,1],marker='x',label=\"Not in HZ\")\n",
    "frame1.scatter(data[ww_habitable][:,2],data[ww_habitable][:,1],marker='x',c=\"orange\",label=\"In HZ\")\n",
    "\n",
    "frame1.set_xlabel('Orbital period (days)')\n",
    "frame1.set_ylabel('Planet radius (Earth radii)')\n",
    "frame1.set_xscale('log')\n",
    "frame1.set_yscale('log')\n",
    "frame1.legend()\n",
    "show()"
   ]
  },
  {
   "cell_type": "code",
   "execution_count": null,
   "metadata": {},
   "outputs": [],
   "source": [
    "PathPlanetTable = \"../output/planet_population.txt\" # str\n",
    "PP = RPP.PlanetPopulation(PathPlanetTable)\n",
    "\n",
    "# Optimistic HZ.\n",
    "ww_Rp = (PP.Rp > 0.5) & (PP.Rp < 1.5)\n",
    "Ts = PP.Ts - 5780.\n",
    "ww_Fp = (PP.Fp > (0.320 + 5.547e-5 * Ts + 1.526e-9 * Ts**2 - 2.874e-12 * Ts**3 - 5.011e-16 * Ts**4)) & (PP.Fp < (1.776 + 2.136e-4 * Ts +  2.533e-8 * Ts**2 - 1.332e-11 * Ts**3 - 3.097e-15 * Ts**4))\n",
    "ww_optHZ = ww_Rp & ww_Fp\n",
    "\n",
    "# Conservative HZ.\n",
    "ww_Rp = (PP.Rp > 0.5) & (PP.Rp < 1.5)\n",
    "Ts = PP.Ts - 5780.\n",
    "ww_Fp = (PP.Fp > (0.356 + 6.171e-5 * Ts + 1.698e-9 * Ts**2 - 3.198e-12 * Ts**3 - 5.575e-16 * Ts**4)) & (PP.Fp < (1.107 + 1.332e-4 * Ts +  1.580e-8 * Ts**2 - 8.308e-11 * Ts**3 - 1.931e-15 * Ts**4))\n",
    "ww_conHZ = ww_Rp & ww_Fp\n",
    "\n",
    "# EEC.\n",
    "ww_Rp = (PP.Rp > 0.8 * PP.Fp**(0.25)) & (PP.Rp < 1.4)\n",
    "Ts = PP.Ts - 5780.\n",
    "ww_Fp = (PP.Fp > (0.356 + 6.171e-5 * Ts + 1.698e-9 * Ts**2 - 3.198e-12 * Ts**3 - 5.575e-16 * Ts**4)) & (PP.Fp < (1.107 + 1.332e-4 * Ts +  1.580e-8 * Ts**2 - 8.308e-11 * Ts**3 - 1.931e-15 * Ts**4))\n",
    "ww_EEC = ww_Rp & ww_Fp\n",
    "\n",
    "# Plot.\n",
    "plotlimit = 2090\n",
    "mpl.rcParams['figure.dpi'] = 200\n",
    "plt.figure(figsize=(8,6))\n",
    "plt.scatter(PP.Porb[:plotlimit], PP.Rp[:plotlimit])\n",
    "plt.scatter(PP.Porb[ww_optHZ][:plotlimit], PP.Rp[ww_optHZ][:plotlimit], s=45, label='Optimistic HZ')\n",
    "plt.scatter(PP.Porb[ww_conHZ][:plotlimit], PP.Rp[ww_conHZ][:plotlimit], s=30, label='Conservative HZ')\n",
    "plt.scatter(PP.Porb[ww_EEC][:plotlimit], PP.Rp[ww_EEC][:plotlimit], s=15, label='EEC')\n",
    "plt.xscale('log')\n",
    "plt.yscale('log')\n",
    "plt.xlabel('Orbital period (d)')\n",
    "plt.ylabel('Planet radius (Earth radii)')\n",
    "plt.title(\"A single p-pop planet population (2000 planets)\")\n",
    "plt.legend()\n",
    "plt.savefig(\"../output/figures/planetpop_massorbit_plot.png\")\n",
    "plt.show()\n",
    "\n",
    "#import pdb; pdb.set_trace()"
   ]
  },
  {
   "cell_type": "code",
   "execution_count": null,
   "metadata": {},
   "outputs": [],
   "source": []
  }
 ],
 "metadata": {
  "kernelspec": {
   "display_name": "project_venv",
   "language": "python",
   "name": "project_venv"
  },
  "language_info": {
   "codemirror_mode": {
    "name": "ipython",
    "version": 3
   },
   "file_extension": ".py",
   "mimetype": "text/x-python",
   "name": "python",
   "nbconvert_exporter": "python",
   "pygments_lexer": "ipython3",
   "version": "3.10.9"
  }
 },
 "nbformat": 4,
 "nbformat_minor": 2
}
